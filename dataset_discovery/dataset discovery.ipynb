{
 "cells": [
  {
   "cell_type": "markdown",
   "id": "50fd7921",
   "metadata": {},
   "source": [
    "# Initial Dataset Discovery"
   ]
  },
  {
   "cell_type": "code",
   "execution_count": 2,
   "id": "0ffc796a",
   "metadata": {},
   "outputs": [],
   "source": [
    "import pyrfume\n",
    "\n",
    "molecules = pyrfume.load_data(\"leffingwell/molecules.csv\", remote=True)\n",
    "behavior = pyrfume.load_data(\"leffingwell/behavior.csv\", remote=True)"
   ]
  },
  {
   "cell_type": "code",
   "execution_count": 24,
   "id": "be9500e9",
   "metadata": {},
   "outputs": [
    {
     "data": {
      "text/plain": [
       "(3523, 5)"
      ]
     },
     "execution_count": 24,
     "metadata": {},
     "output_type": "execute_result"
    }
   ],
   "source": [
    "molecules.shape"
   ]
  },
  {
   "cell_type": "code",
   "execution_count": 3,
   "id": "0ae372c3",
   "metadata": {},
   "outputs": [
    {
     "data": {
      "text/html": [
       "<div>\n",
       "<style scoped>\n",
       "    .dataframe tbody tr th:only-of-type {\n",
       "        vertical-align: middle;\n",
       "    }\n",
       "\n",
       "    .dataframe tbody tr th {\n",
       "        vertical-align: top;\n",
       "    }\n",
       "\n",
       "    .dataframe thead th {\n",
       "        text-align: right;\n",
       "    }\n",
       "</style>\n",
       "<table border=\"1\" class=\"dataframe\">\n",
       "  <thead>\n",
       "    <tr style=\"text-align: right;\">\n",
       "      <th></th>\n",
       "      <th>alcoholic</th>\n",
       "      <th>aldehydic</th>\n",
       "      <th>alliaceous</th>\n",
       "      <th>almond</th>\n",
       "      <th>animal</th>\n",
       "      <th>anisic</th>\n",
       "      <th>apple</th>\n",
       "      <th>apricot</th>\n",
       "      <th>aromatic</th>\n",
       "      <th>balsamic</th>\n",
       "      <th>...</th>\n",
       "      <th>tobacco</th>\n",
       "      <th>tomato</th>\n",
       "      <th>tropical</th>\n",
       "      <th>vanilla</th>\n",
       "      <th>vegetable</th>\n",
       "      <th>violet</th>\n",
       "      <th>warm</th>\n",
       "      <th>waxy</th>\n",
       "      <th>winey</th>\n",
       "      <th>woody</th>\n",
       "    </tr>\n",
       "    <tr>\n",
       "      <th>IsomericSMILES</th>\n",
       "      <th></th>\n",
       "      <th></th>\n",
       "      <th></th>\n",
       "      <th></th>\n",
       "      <th></th>\n",
       "      <th></th>\n",
       "      <th></th>\n",
       "      <th></th>\n",
       "      <th></th>\n",
       "      <th></th>\n",
       "      <th></th>\n",
       "      <th></th>\n",
       "      <th></th>\n",
       "      <th></th>\n",
       "      <th></th>\n",
       "      <th></th>\n",
       "      <th></th>\n",
       "      <th></th>\n",
       "      <th></th>\n",
       "      <th></th>\n",
       "      <th></th>\n",
       "    </tr>\n",
       "  </thead>\n",
       "  <tbody>\n",
       "    <tr>\n",
       "      <th>CC(C)CC(C)(O)C1CCCS1</th>\n",
       "      <td>0</td>\n",
       "      <td>0</td>\n",
       "      <td>0</td>\n",
       "      <td>0</td>\n",
       "      <td>0</td>\n",
       "      <td>0</td>\n",
       "      <td>0</td>\n",
       "      <td>0</td>\n",
       "      <td>0</td>\n",
       "      <td>0</td>\n",
       "      <td>...</td>\n",
       "      <td>0</td>\n",
       "      <td>0</td>\n",
       "      <td>1</td>\n",
       "      <td>0</td>\n",
       "      <td>0</td>\n",
       "      <td>0</td>\n",
       "      <td>0</td>\n",
       "      <td>0</td>\n",
       "      <td>0</td>\n",
       "      <td>0</td>\n",
       "    </tr>\n",
       "    <tr>\n",
       "      <th>CCCCC=COC(=O)c1ccco1</th>\n",
       "      <td>0</td>\n",
       "      <td>0</td>\n",
       "      <td>0</td>\n",
       "      <td>0</td>\n",
       "      <td>0</td>\n",
       "      <td>0</td>\n",
       "      <td>0</td>\n",
       "      <td>0</td>\n",
       "      <td>0</td>\n",
       "      <td>0</td>\n",
       "      <td>...</td>\n",
       "      <td>0</td>\n",
       "      <td>0</td>\n",
       "      <td>1</td>\n",
       "      <td>0</td>\n",
       "      <td>0</td>\n",
       "      <td>0</td>\n",
       "      <td>0</td>\n",
       "      <td>0</td>\n",
       "      <td>0</td>\n",
       "      <td>0</td>\n",
       "    </tr>\n",
       "    <tr>\n",
       "      <th>CCCCC=COC(=O)C(C)CCC</th>\n",
       "      <td>0</td>\n",
       "      <td>0</td>\n",
       "      <td>0</td>\n",
       "      <td>0</td>\n",
       "      <td>0</td>\n",
       "      <td>0</td>\n",
       "      <td>1</td>\n",
       "      <td>0</td>\n",
       "      <td>0</td>\n",
       "      <td>0</td>\n",
       "      <td>...</td>\n",
       "      <td>0</td>\n",
       "      <td>0</td>\n",
       "      <td>1</td>\n",
       "      <td>0</td>\n",
       "      <td>0</td>\n",
       "      <td>0</td>\n",
       "      <td>0</td>\n",
       "      <td>0</td>\n",
       "      <td>0</td>\n",
       "      <td>0</td>\n",
       "    </tr>\n",
       "    <tr>\n",
       "      <th>CCCCC=COC(=O)CCCCCCCC</th>\n",
       "      <td>0</td>\n",
       "      <td>0</td>\n",
       "      <td>0</td>\n",
       "      <td>0</td>\n",
       "      <td>0</td>\n",
       "      <td>0</td>\n",
       "      <td>0</td>\n",
       "      <td>0</td>\n",
       "      <td>0</td>\n",
       "      <td>0</td>\n",
       "      <td>...</td>\n",
       "      <td>0</td>\n",
       "      <td>0</td>\n",
       "      <td>0</td>\n",
       "      <td>0</td>\n",
       "      <td>0</td>\n",
       "      <td>0</td>\n",
       "      <td>0</td>\n",
       "      <td>1</td>\n",
       "      <td>0</td>\n",
       "      <td>0</td>\n",
       "    </tr>\n",
       "    <tr>\n",
       "      <th>CSCC[C@H](N)C(=O)OC(=O)CS</th>\n",
       "      <td>0</td>\n",
       "      <td>0</td>\n",
       "      <td>1</td>\n",
       "      <td>0</td>\n",
       "      <td>0</td>\n",
       "      <td>0</td>\n",
       "      <td>0</td>\n",
       "      <td>0</td>\n",
       "      <td>0</td>\n",
       "      <td>0</td>\n",
       "      <td>...</td>\n",
       "      <td>0</td>\n",
       "      <td>0</td>\n",
       "      <td>0</td>\n",
       "      <td>0</td>\n",
       "      <td>0</td>\n",
       "      <td>0</td>\n",
       "      <td>0</td>\n",
       "      <td>0</td>\n",
       "      <td>0</td>\n",
       "      <td>0</td>\n",
       "    </tr>\n",
       "  </tbody>\n",
       "</table>\n",
       "<p>5 rows × 113 columns</p>\n",
       "</div>"
      ],
      "text/plain": [
       "                           alcoholic  aldehydic  alliaceous  almond  animal  \\\n",
       "IsomericSMILES                                                                \n",
       "CC(C)CC(C)(O)C1CCCS1               0          0           0       0       0   \n",
       "CCCCC=COC(=O)c1ccco1               0          0           0       0       0   \n",
       "CCCCC=COC(=O)C(C)CCC               0          0           0       0       0   \n",
       "CCCCC=COC(=O)CCCCCCCC              0          0           0       0       0   \n",
       "CSCC[C@H](N)C(=O)OC(=O)CS          0          0           1       0       0   \n",
       "\n",
       "                           anisic  apple  apricot  aromatic  balsamic  ...  \\\n",
       "IsomericSMILES                                                         ...   \n",
       "CC(C)CC(C)(O)C1CCCS1            0      0        0         0         0  ...   \n",
       "CCCCC=COC(=O)c1ccco1            0      0        0         0         0  ...   \n",
       "CCCCC=COC(=O)C(C)CCC            0      1        0         0         0  ...   \n",
       "CCCCC=COC(=O)CCCCCCCC           0      0        0         0         0  ...   \n",
       "CSCC[C@H](N)C(=O)OC(=O)CS       0      0        0         0         0  ...   \n",
       "\n",
       "                           tobacco  tomato  tropical  vanilla  vegetable  \\\n",
       "IsomericSMILES                                                             \n",
       "CC(C)CC(C)(O)C1CCCS1             0       0         1        0          0   \n",
       "CCCCC=COC(=O)c1ccco1             0       0         1        0          0   \n",
       "CCCCC=COC(=O)C(C)CCC             0       0         1        0          0   \n",
       "CCCCC=COC(=O)CCCCCCCC            0       0         0        0          0   \n",
       "CSCC[C@H](N)C(=O)OC(=O)CS        0       0         0        0          0   \n",
       "\n",
       "                           violet  warm  waxy  winey  woody  \n",
       "IsomericSMILES                                               \n",
       "CC(C)CC(C)(O)C1CCCS1            0     0     0      0      0  \n",
       "CCCCC=COC(=O)c1ccco1            0     0     0      0      0  \n",
       "CCCCC=COC(=O)C(C)CCC            0     0     0      0      0  \n",
       "CCCCC=COC(=O)CCCCCCCC           0     0     1      0      0  \n",
       "CSCC[C@H](N)C(=O)OC(=O)CS       0     0     0      0      0  \n",
       "\n",
       "[5 rows x 113 columns]"
      ]
     },
     "execution_count": 3,
     "metadata": {},
     "output_type": "execute_result"
    }
   ],
   "source": [
    "behavior = behavior.set_index(\"IsomericSMILES\")\n",
    "behavior.head()"
   ]
  },
  {
   "cell_type": "markdown",
   "id": "8e77a30a",
   "metadata": {},
   "source": [
    "As we begin to experiment with the dataset, let's see if we can reduce the problem. We begin by creating a subset of the chemicals with the most common smells."
   ]
  },
  {
   "cell_type": "code",
   "execution_count": 8,
   "id": "f9f24651",
   "metadata": {},
   "outputs": [
    {
     "data": {
      "text/plain": [
       "fruity         1392\n",
       "green           908\n",
       "sweet           825\n",
       "floral          553\n",
       "fatty           407\n",
       "               ... \n",
       "catty            20\n",
       "musk             20\n",
       "radish           20\n",
       "leathery         20\n",
       "horseradish      20\n",
       "Length: 113, dtype: int64"
      ]
     },
     "execution_count": 8,
     "metadata": {},
     "output_type": "execute_result"
    }
   ],
   "source": [
    "top_scents = behavior.sum(axis=0).sort_values(ascending=False)\n",
    "top_scents"
   ]
  },
  {
   "cell_type": "markdown",
   "id": "8a771863",
   "metadata": {},
   "source": [
    "Let's see how related these items are."
   ]
  },
  {
   "cell_type": "code",
   "execution_count": 9,
   "id": "85cb9d63",
   "metadata": {},
   "outputs": [],
   "source": [
    "import seaborn as sns\n",
    "import numpy as np\n",
    "\n",
    "sns.set_theme()\n",
    "sns.set(rc={\"figure.figsize\": (14, 10)})"
   ]
  },
  {
   "cell_type": "code",
   "execution_count": 10,
   "id": "10025bab",
   "metadata": {},
   "outputs": [],
   "source": [
    "co_occur = behavior.T.dot(behavior)"
   ]
  },
  {
   "cell_type": "code",
   "execution_count": 11,
   "id": "4c4f8e9c",
   "metadata": {},
   "outputs": [
    {
     "data": {
      "text/plain": [
       "<AxesSubplot:>"
      ]
     },
     "execution_count": 11,
     "metadata": {},
     "output_type": "execute_result"
    },
    {
     "data": {
      "image/png": "[encoded data removed]",
      "text/plain": [
       "<Figure size 1008x720 with 2 Axes>"
      ]
     },
     "metadata": {},
     "output_type": "display_data"
    }
   ],
   "source": [
    "sns.heatmap(np.log(co_occur), fmt=\"d\")"
   ]
  },
  {
   "cell_type": "markdown",
   "id": "225924ca",
   "metadata": {},
   "source": [
    "There are so many classes, many of which do not have many samples. Let's reduce this to a binary classification problem for initial training. This will speed up modelling process by decreases requried complexity of the model. A  multi-label classification model is equivalent to several binary classification models."
   ]
  },
  {
   "cell_type": "code",
   "execution_count": 12,
   "id": "640803eb",
   "metadata": {},
   "outputs": [],
   "source": [
    "top_scents = top_scents.head(1)"
   ]
  },
  {
   "cell_type": "code",
   "execution_count": 13,
   "id": "15c1b4ad",
   "metadata": {},
   "outputs": [
    {
     "data": {
      "text/html": [
       "<div>\n",
       "<style scoped>\n",
       "    .dataframe tbody tr th:only-of-type {\n",
       "        vertical-align: middle;\n",
       "    }\n",
       "\n",
       "    .dataframe tbody tr th {\n",
       "        vertical-align: top;\n",
       "    }\n",
       "\n",
       "    .dataframe thead th {\n",
       "        text-align: right;\n",
       "    }\n",
       "</style>\n",
       "<table border=\"1\" class=\"dataframe\">\n",
       "  <thead>\n",
       "    <tr style=\"text-align: right;\">\n",
       "      <th></th>\n",
       "      <th>fruity</th>\n",
       "    </tr>\n",
       "    <tr>\n",
       "      <th>IsomericSMILES</th>\n",
       "      <th></th>\n",
       "    </tr>\n",
       "  </thead>\n",
       "  <tbody>\n",
       "    <tr>\n",
       "      <th>CC(C)CC(C)(O)C1CCCS1</th>\n",
       "      <td>0</td>\n",
       "    </tr>\n",
       "    <tr>\n",
       "      <th>CCCCC=COC(=O)c1ccco1</th>\n",
       "      <td>1</td>\n",
       "    </tr>\n",
       "    <tr>\n",
       "      <th>CCCCC=COC(=O)C(C)CCC</th>\n",
       "      <td>1</td>\n",
       "    </tr>\n",
       "    <tr>\n",
       "      <th>CCCCC=COC(=O)CCCCCCCC</th>\n",
       "      <td>1</td>\n",
       "    </tr>\n",
       "    <tr>\n",
       "      <th>CSCC[C@H](N)C(=O)OC(=O)CS</th>\n",
       "      <td>0</td>\n",
       "    </tr>\n",
       "  </tbody>\n",
       "</table>\n",
       "</div>"
      ],
      "text/plain": [
       "                           fruity\n",
       "IsomericSMILES                   \n",
       "CC(C)CC(C)(O)C1CCCS1            0\n",
       "CCCCC=COC(=O)c1ccco1            1\n",
       "CCCCC=COC(=O)C(C)CCC            1\n",
       "CCCCC=COC(=O)CCCCCCCC           1\n",
       "CSCC[C@H](N)C(=O)OC(=O)CS       0"
      ]
     },
     "execution_count": 13,
     "metadata": {},
     "output_type": "execute_result"
    }
   ],
   "source": [
    "behav_sub = behavior[top_scents.index]\n",
    "behav_sub.head()"
   ]
  },
  {
   "cell_type": "code",
   "execution_count": 14,
   "id": "3807004d",
   "metadata": {},
   "outputs": [
    {
     "data": {
      "text/plain": [
       "Index(['fruity'], dtype='object')"
      ]
     },
     "execution_count": 14,
     "metadata": {},
     "output_type": "execute_result"
    }
   ],
   "source": [
    "top_scents.index"
   ]
  },
  {
   "cell_type": "markdown",
   "id": "dbfcb65d",
   "metadata": {},
   "source": [
    "## Generate Dataset"
   ]
  },
  {
   "cell_type": "code",
   "execution_count": 15,
   "id": "c2396518",
   "metadata": {},
   "outputs": [],
   "source": [
    "from dataset import construct_dataset\n",
    "from torch_geometric.loader import DataLoader"
   ]
  },
  {
   "cell_type": "code",
   "execution_count": 16,
   "id": "ad99d816",
   "metadata": {},
   "outputs": [],
   "source": [
    "train_dataset, test_dataset = construct_dataset(behav_sub)"
   ]
  },
  {
   "cell_type": "code",
   "execution_count": 12,
   "id": "765d6849",
   "metadata": {},
   "outputs": [
    {
     "data": {
      "text/plain": [
       "(3171, 352)"
      ]
     },
     "execution_count": 12,
     "metadata": {},
     "output_type": "execute_result"
    }
   ],
   "source": [
    "len(train_dataset), len(test_dataset)"
   ]
  },
  {
   "cell_type": "code",
   "execution_count": 13,
   "id": "7d936368",
   "metadata": {},
   "outputs": [],
   "source": [
    "train_loader = DataLoader(train_dataset, batch_size=32, shuffle=True)\n",
    "test_loader = DataLoader(test_dataset, batch_size=32, shuffle=False)"
   ]
  },
  {
   "cell_type": "markdown",
   "id": "9765cee4",
   "metadata": {},
   "source": [
    "# GNN Binary Graph Classification"
   ]
  },
  {
   "cell_type": "markdown",
   "id": "5d57322e",
   "metadata": {},
   "source": [
    "## Train Model"
   ]
  },
  {
   "cell_type": "code",
   "execution_count": 14,
   "id": "cbcdbd2c",
   "metadata": {},
   "outputs": [],
   "source": [
    "import torch\n",
    "from model import GCN, train, test, evaluate\n",
    "\n",
    "torch.manual_seed(888)\n",
    "np.random.seed(888)"
   ]
  },
  {
   "cell_type": "code",
   "execution_count": 15,
   "id": "2fa48c31",
   "metadata": {},
   "outputs": [
    {
     "name": "stdout",
     "output_type": "stream",
     "text": [
      "GCN(\n",
      "  (conv1): TransformerConv(125, 64, heads=1)\n",
      "  (conv2): TransformerConv(64, 64, heads=1)\n",
      "  (conv3): TransformerConv(64, 64, heads=1)\n",
      "  (conv4): TransformerConv(64, 64, heads=1)\n",
      "  (conv5): GCNConv(64, 64)\n",
      "  (lin): Linear(in_features=64, out_features=1, bias=True)\n",
      "  (activation): SELU()\n",
      "  (out_activation): Sigmoid()\n",
      ")\n"
     ]
    }
   ],
   "source": [
    "num_node_features = len(train_dataset[0].x[0])\n",
    "out_size = len(train_dataset[0].y)\n",
    "model = GCN(num_node_features=num_node_features, hidden_channels=64, out_size=out_size)\n",
    "print(model)"
   ]
  },
  {
   "cell_type": "code",
   "execution_count": 16,
   "id": "79cc3739",
   "metadata": {
    "scrolled": true
   },
   "outputs": [
    {
     "name": "stdout",
     "output_type": "stream",
     "text": [
      "Epoch: 000, Train Acc: 0.7506, Test Acc: 0.7472\n",
      "Epoch: 005, Train Acc: 0.7751, Test Acc: 0.7727\n",
      "Epoch: 010, Train Acc: 0.7193, Test Acc: 0.7330\n",
      "Epoch: 015, Train Acc: 0.6310, Test Acc: 0.6335\n",
      "Epoch: 020, Train Acc: 0.7774, Test Acc: 0.7642\n",
      "Epoch: 025, Train Acc: 0.7868, Test Acc: 0.7841\n",
      "Epoch: 030, Train Acc: 0.7900, Test Acc: 0.7812\n",
      "Epoch: 035, Train Acc: 0.8092, Test Acc: 0.7670\n",
      "Epoch: 040, Train Acc: 0.8161, Test Acc: 0.7812\n",
      "Epoch: 045, Train Acc: 0.8146, Test Acc: 0.7642\n",
      "Epoch: 050, Train Acc: 0.8215, Test Acc: 0.7670\n",
      "Epoch: 055, Train Acc: 0.8146, Test Acc: 0.7699\n",
      "Epoch: 060, Train Acc: 0.8209, Test Acc: 0.7557\n",
      "Epoch: 065, Train Acc: 0.8215, Test Acc: 0.7528\n",
      "Epoch: 070, Train Acc: 0.8215, Test Acc: 0.7528\n",
      "Epoch: 075, Train Acc: 0.8221, Test Acc: 0.7528\n",
      "Epoch: 080, Train Acc: 0.8218, Test Acc: 0.7528\n",
      "Epoch: 085, Train Acc: 0.8218, Test Acc: 0.7528\n",
      "Epoch: 090, Train Acc: 0.8218, Test Acc: 0.7528\n",
      "Epoch: 095, Train Acc: 0.8218, Test Acc: 0.7528\n",
      "Epoch: 100, Train Acc: 0.8218, Test Acc: 0.7528\n"
     ]
    }
   ],
   "source": [
    "optimizer = torch.optim.Adam(model.parameters(), lr=0.01)\n",
    "criterion = torch.nn.BCELoss()\n",
    "scheduler = torch.optim.lr_scheduler.StepLR(optimizer, step_size=20, gamma=0.1)\n",
    "\n",
    "for epoch in range(0, 101):\n",
    "    train(\n",
    "        model=model,\n",
    "        loader=train_loader,\n",
    "        criterion=criterion,\n",
    "        optimizer=optimizer,\n",
    "        scheduler=scheduler,\n",
    "    )\n",
    "    if epoch % 5 == 0:\n",
    "        train_acc = test(model=model, loader=train_loader)\n",
    "        test_acc = test(model=model, loader=test_loader)\n",
    "        print(\n",
    "            f\"Epoch: {epoch:03d}, Train Acc: {train_acc:.4f}, Test Acc: {test_acc:.4f}\"\n",
    "        )"
   ]
  },
  {
   "cell_type": "markdown",
   "id": "b6657d2b",
   "metadata": {},
   "source": [
    "## Model Evaluation"
   ]
  },
  {
   "cell_type": "code",
   "execution_count": 17,
   "id": "b07febb7",
   "metadata": {},
   "outputs": [],
   "source": [
    "from metrics import get_eval_metrics"
   ]
  },
  {
   "cell_type": "code",
   "execution_count": 18,
   "id": "67adc31c",
   "metadata": {},
   "outputs": [],
   "source": [
    "pred_y, actual_y = evaluate(model, test_loader)"
   ]
  },
  {
   "cell_type": "code",
   "execution_count": 19,
   "id": "68c78891",
   "metadata": {},
   "outputs": [
    {
     "data": {
      "text/html": [
       "<div>\n",
       "<style scoped>\n",
       "    .dataframe tbody tr th:only-of-type {\n",
       "        vertical-align: middle;\n",
       "    }\n",
       "\n",
       "    .dataframe tbody tr th {\n",
       "        vertical-align: top;\n",
       "    }\n",
       "\n",
       "    .dataframe thead th {\n",
       "        text-align: right;\n",
       "    }\n",
       "</style>\n",
       "<table border=\"1\" class=\"dataframe\">\n",
       "  <thead>\n",
       "    <tr style=\"text-align: right;\">\n",
       "      <th></th>\n",
       "      <th>class</th>\n",
       "      <th>precision</th>\n",
       "      <th>recall</th>\n",
       "      <th>TP</th>\n",
       "      <th>FP</th>\n",
       "      <th>TN</th>\n",
       "      <th>FN</th>\n",
       "    </tr>\n",
       "  </thead>\n",
       "  <tbody>\n",
       "    <tr>\n",
       "      <th>0</th>\n",
       "      <td>fruity</td>\n",
       "      <td>0.68</td>\n",
       "      <td>0.723404</td>\n",
       "      <td>102</td>\n",
       "      <td>48</td>\n",
       "      <td>163</td>\n",
       "      <td>39</td>\n",
       "    </tr>\n",
       "  </tbody>\n",
       "</table>\n",
       "</div>"
      ],
      "text/plain": [
       "    class  precision    recall   TP  FP   TN  FN\n",
       "0  fruity       0.68  0.723404  102  48  163  39"
      ]
     },
     "execution_count": 19,
     "metadata": {},
     "output_type": "execute_result"
    }
   ],
   "source": [
    "get_eval_metrics(actual_y, pred_y, top_scents.index)"
   ]
  },
  {
   "cell_type": "markdown",
   "id": "996cd299",
   "metadata": {},
   "source": [
    "So, we can create a fair binary classifier with few parameters (few enough to train on a laptop CPU). Let's see if we can push the limit on how many classes we can predict on before we are required to scale our parameters."
   ]
  },
  {
   "cell_type": "markdown",
   "id": "38e18d2d",
   "metadata": {},
   "source": [
    "# GNN Multi-label Graph Classification"
   ]
  },
  {
   "cell_type": "code",
   "execution_count": 23,
   "id": "cd0367b0",
   "metadata": {},
   "outputs": [
    {
     "data": {
      "text/plain": [
       "fruity        1392\n",
       "green          908\n",
       "sweet          825\n",
       "floral         553\n",
       "fatty          407\n",
       "herbal         406\n",
       "sulfurous      252\n",
       "waxy           244\n",
       "apple          239\n",
       "fresh          237\n",
       "nutty          224\n",
       "meaty          218\n",
       "woody          211\n",
       "spicy          203\n",
       "citrus         201\n",
       "tropical       201\n",
       "oily           200\n",
       "ethereal       195\n",
       "roasted        195\n",
       "winey          174\n",
       "earthy         173\n",
       "vegetable      165\n",
       "balsamic       164\n",
       "rose           163\n",
       "caramellic     161\n",
       "cheesy         142\n",
       "pineapple      139\n",
       "burnt          131\n",
       "onion          125\n",
       "mint           123\n",
       "dtype: int64"
      ]
     },
     "execution_count": 23,
     "metadata": {},
     "output_type": "execute_result"
    }
   ],
   "source": [
    "behavior.sum(axis=0).sort_values(ascending=False).head(30)"
   ]
  },
  {
   "cell_type": "code",
   "execution_count": 20,
   "id": "ebc91bd1",
   "metadata": {},
   "outputs": [
    {
     "name": "stdout",
     "output_type": "stream",
     "text": [
      "3171 352\n"
     ]
    }
   ],
   "source": [
    "top_scents = behavior.sum(axis=0).sort_values(ascending=False).head(5)\n",
    "behav_sub = behavior[top_scents.index]\n",
    "train_dataset, test_dataset = construct_dataset(behav_sub)\n",
    "print(len(train_dataset), len(test_dataset))\n",
    "train_loader = DataLoader(train_dataset, batch_size=32, shuffle=True)\n",
    "test_loader = DataLoader(test_dataset, batch_size=32, shuffle=False)"
   ]
  },
  {
   "cell_type": "code",
   "execution_count": 21,
   "id": "ecff9bcc",
   "metadata": {},
   "outputs": [
    {
     "data": {
      "text/html": [
       "<div>\n",
       "<style scoped>\n",
       "    .dataframe tbody tr th:only-of-type {\n",
       "        vertical-align: middle;\n",
       "    }\n",
       "\n",
       "    .dataframe tbody tr th {\n",
       "        vertical-align: top;\n",
       "    }\n",
       "\n",
       "    .dataframe thead th {\n",
       "        text-align: right;\n",
       "    }\n",
       "</style>\n",
       "<table border=\"1\" class=\"dataframe\">\n",
       "  <thead>\n",
       "    <tr style=\"text-align: right;\">\n",
       "      <th></th>\n",
       "      <th>fruity</th>\n",
       "      <th>green</th>\n",
       "      <th>sweet</th>\n",
       "      <th>floral</th>\n",
       "      <th>fatty</th>\n",
       "    </tr>\n",
       "    <tr>\n",
       "      <th>IsomericSMILES</th>\n",
       "      <th></th>\n",
       "      <th></th>\n",
       "      <th></th>\n",
       "      <th></th>\n",
       "      <th></th>\n",
       "    </tr>\n",
       "  </thead>\n",
       "  <tbody>\n",
       "    <tr>\n",
       "      <th>CC(C)CC(C)(O)C1CCCS1</th>\n",
       "      <td>0</td>\n",
       "      <td>1</td>\n",
       "      <td>0</td>\n",
       "      <td>0</td>\n",
       "      <td>0</td>\n",
       "    </tr>\n",
       "    <tr>\n",
       "      <th>CCCCC=COC(=O)c1ccco1</th>\n",
       "      <td>1</td>\n",
       "      <td>1</td>\n",
       "      <td>1</td>\n",
       "      <td>0</td>\n",
       "      <td>0</td>\n",
       "    </tr>\n",
       "    <tr>\n",
       "      <th>CCCCC=COC(=O)C(C)CCC</th>\n",
       "      <td>1</td>\n",
       "      <td>1</td>\n",
       "      <td>0</td>\n",
       "      <td>0</td>\n",
       "      <td>0</td>\n",
       "    </tr>\n",
       "    <tr>\n",
       "      <th>CCCCC=COC(=O)CCCCCCCC</th>\n",
       "      <td>1</td>\n",
       "      <td>1</td>\n",
       "      <td>0</td>\n",
       "      <td>0</td>\n",
       "      <td>0</td>\n",
       "    </tr>\n",
       "    <tr>\n",
       "      <th>CSCC[C@H](N)C(=O)OC(=O)CS</th>\n",
       "      <td>0</td>\n",
       "      <td>0</td>\n",
       "      <td>1</td>\n",
       "      <td>0</td>\n",
       "      <td>0</td>\n",
       "    </tr>\n",
       "    <tr>\n",
       "      <th>...</th>\n",
       "      <td>...</td>\n",
       "      <td>...</td>\n",
       "      <td>...</td>\n",
       "      <td>...</td>\n",
       "      <td>...</td>\n",
       "    </tr>\n",
       "    <tr>\n",
       "      <th>CCCCCCOC(CCCCC)OCCCC</th>\n",
       "      <td>0</td>\n",
       "      <td>1</td>\n",
       "      <td>0</td>\n",
       "      <td>0</td>\n",
       "      <td>0</td>\n",
       "    </tr>\n",
       "    <tr>\n",
       "      <th>CCC1(C(O1)(C2=CC=CC=C2)C(=O)OCC)C</th>\n",
       "      <td>1</td>\n",
       "      <td>0</td>\n",
       "      <td>0</td>\n",
       "      <td>0</td>\n",
       "      <td>0</td>\n",
       "    </tr>\n",
       "    <tr>\n",
       "      <th>CCCCOC(=S)C(C)C</th>\n",
       "      <td>1</td>\n",
       "      <td>0</td>\n",
       "      <td>0</td>\n",
       "      <td>0</td>\n",
       "      <td>0</td>\n",
       "    </tr>\n",
       "    <tr>\n",
       "      <th>CCC1CSSSC1(CC)CC</th>\n",
       "      <td>0</td>\n",
       "      <td>1</td>\n",
       "      <td>0</td>\n",
       "      <td>0</td>\n",
       "      <td>0</td>\n",
       "    </tr>\n",
       "    <tr>\n",
       "      <th>CC(S)SS</th>\n",
       "      <td>0</td>\n",
       "      <td>0</td>\n",
       "      <td>0</td>\n",
       "      <td>0</td>\n",
       "      <td>0</td>\n",
       "    </tr>\n",
       "  </tbody>\n",
       "</table>\n",
       "<p>3523 rows × 5 columns</p>\n",
       "</div>"
      ],
      "text/plain": [
       "                                   fruity  green  sweet  floral  fatty\n",
       "IsomericSMILES                                                        \n",
       "CC(C)CC(C)(O)C1CCCS1                    0      1      0       0      0\n",
       "CCCCC=COC(=O)c1ccco1                    1      1      1       0      0\n",
       "CCCCC=COC(=O)C(C)CCC                    1      1      0       0      0\n",
       "CCCCC=COC(=O)CCCCCCCC                   1      1      0       0      0\n",
       "CSCC[C@H](N)C(=O)OC(=O)CS               0      0      1       0      0\n",
       "...                                   ...    ...    ...     ...    ...\n",
       "CCCCCCOC(CCCCC)OCCCC                    0      1      0       0      0\n",
       "CCC1(C(O1)(C2=CC=CC=C2)C(=O)OCC)C       1      0      0       0      0\n",
       "CCCCOC(=S)C(C)C                         1      0      0       0      0\n",
       "CCC1CSSSC1(CC)CC                        0      1      0       0      0\n",
       "CC(S)SS                                 0      0      0       0      0\n",
       "\n",
       "[3523 rows x 5 columns]"
      ]
     },
     "execution_count": 21,
     "metadata": {},
     "output_type": "execute_result"
    }
   ],
   "source": [
    "behav_sub"
   ]
  },
  {
   "cell_type": "code",
   "execution_count": 22,
   "id": "980e247d",
   "metadata": {},
   "outputs": [
    {
     "name": "stdout",
     "output_type": "stream",
     "text": [
      "GCN(\n",
      "  (conv1): TransformerConv(125, 64, heads=1)\n",
      "  (conv2): TransformerConv(64, 64, heads=1)\n",
      "  (conv3): TransformerConv(64, 64, heads=1)\n",
      "  (conv4): TransformerConv(64, 64, heads=1)\n",
      "  (conv5): GCNConv(64, 64)\n",
      "  (lin): Linear(in_features=64, out_features=5, bias=True)\n",
      "  (activation): SELU()\n",
      "  (out_activation): Sigmoid()\n",
      ")\n"
     ]
    }
   ],
   "source": [
    "num_node_features = len(train_dataset[0].x[0])\n",
    "out_size = train_dataset[0].y.shape[1]\n",
    "model = GCN(num_node_features=num_node_features, hidden_channels=64, out_size=out_size)\n",
    "print(model)"
   ]
  },
  {
   "cell_type": "code",
   "execution_count": 23,
   "id": "3478df38",
   "metadata": {},
   "outputs": [
    {
     "name": "stdout",
     "output_type": "stream",
     "text": [
      "Epoch: 000, Train Acc: 0.3213, Test Acc: 0.2756\n",
      "Epoch: 005, Train Acc: 0.3125, Test Acc: 0.2699\n",
      "Epoch: 010, Train Acc: 0.3311, Test Acc: 0.2869\n",
      "Epoch: 015, Train Acc: 0.3475, Test Acc: 0.2926\n",
      "Epoch: 020, Train Acc: 0.3847, Test Acc: 0.3125\n",
      "Epoch: 025, Train Acc: 0.4084, Test Acc: 0.3324\n",
      "Epoch: 030, Train Acc: 0.4156, Test Acc: 0.3466\n",
      "Epoch: 035, Train Acc: 0.4210, Test Acc: 0.3324\n",
      "Epoch: 040, Train Acc: 0.4320, Test Acc: 0.3125\n",
      "Epoch: 045, Train Acc: 0.4374, Test Acc: 0.3182\n",
      "Epoch: 050, Train Acc: 0.4399, Test Acc: 0.3153\n",
      "Epoch: 055, Train Acc: 0.4402, Test Acc: 0.3239\n",
      "Epoch: 060, Train Acc: 0.4399, Test Acc: 0.3295\n",
      "Epoch: 065, Train Acc: 0.4402, Test Acc: 0.3295\n",
      "Epoch: 070, Train Acc: 0.4412, Test Acc: 0.3324\n",
      "Epoch: 075, Train Acc: 0.4415, Test Acc: 0.3295\n",
      "Epoch: 080, Train Acc: 0.4399, Test Acc: 0.3295\n",
      "Epoch: 085, Train Acc: 0.4406, Test Acc: 0.3295\n",
      "Epoch: 090, Train Acc: 0.4402, Test Acc: 0.3295\n",
      "Epoch: 095, Train Acc: 0.4402, Test Acc: 0.3295\n",
      "Epoch: 100, Train Acc: 0.4402, Test Acc: 0.3295\n"
     ]
    }
   ],
   "source": [
    "optimizer = torch.optim.Adam(model.parameters(), lr=0.01)\n",
    "criterion = torch.nn.BCELoss()\n",
    "scheduler = torch.optim.lr_scheduler.StepLR(optimizer, step_size=20, gamma=0.1)\n",
    "\n",
    "for epoch in range(0, 101):\n",
    "    train(\n",
    "        model=model,\n",
    "        loader=train_loader,\n",
    "        criterion=criterion,\n",
    "        optimizer=optimizer,\n",
    "        scheduler=scheduler,\n",
    "    )\n",
    "    if epoch % 5 == 0:\n",
    "        train_acc = test(model=model, loader=train_loader)\n",
    "        test_acc = test(model=model, loader=test_loader)\n",
    "        print(\n",
    "            f\"Epoch: {epoch:03d}, Train Acc: {train_acc:.4f}, Test Acc: {test_acc:.4f}\"\n",
    "        )"
   ]
  },
  {
   "cell_type": "code",
   "execution_count": 24,
   "id": "ea03f61e",
   "metadata": {
    "scrolled": false
   },
   "outputs": [
    {
     "data": {
      "text/html": [
       "<div>\n",
       "<style scoped>\n",
       "    .dataframe tbody tr th:only-of-type {\n",
       "        vertical-align: middle;\n",
       "    }\n",
       "\n",
       "    .dataframe tbody tr th {\n",
       "        vertical-align: top;\n",
       "    }\n",
       "\n",
       "    .dataframe thead th {\n",
       "        text-align: right;\n",
       "    }\n",
       "</style>\n",
       "<table border=\"1\" class=\"dataframe\">\n",
       "  <thead>\n",
       "    <tr style=\"text-align: right;\">\n",
       "      <th></th>\n",
       "      <th>class</th>\n",
       "      <th>precision</th>\n",
       "      <th>recall</th>\n",
       "      <th>TP</th>\n",
       "      <th>FP</th>\n",
       "      <th>TN</th>\n",
       "      <th>FN</th>\n",
       "    </tr>\n",
       "  </thead>\n",
       "  <tbody>\n",
       "    <tr>\n",
       "      <th>0</th>\n",
       "      <td>fruity</td>\n",
       "      <td>0.746667</td>\n",
       "      <td>0.741722</td>\n",
       "      <td>112</td>\n",
       "      <td>38</td>\n",
       "      <td>163</td>\n",
       "      <td>39</td>\n",
       "    </tr>\n",
       "    <tr>\n",
       "      <th>1</th>\n",
       "      <td>green</td>\n",
       "      <td>0.352381</td>\n",
       "      <td>0.587302</td>\n",
       "      <td>37</td>\n",
       "      <td>68</td>\n",
       "      <td>221</td>\n",
       "      <td>26</td>\n",
       "    </tr>\n",
       "    <tr>\n",
       "      <th>2</th>\n",
       "      <td>sweet</td>\n",
       "      <td>0.244186</td>\n",
       "      <td>0.677419</td>\n",
       "      <td>21</td>\n",
       "      <td>65</td>\n",
       "      <td>256</td>\n",
       "      <td>10</td>\n",
       "    </tr>\n",
       "    <tr>\n",
       "      <th>3</th>\n",
       "      <td>floral</td>\n",
       "      <td>0.327586</td>\n",
       "      <td>0.527778</td>\n",
       "      <td>19</td>\n",
       "      <td>39</td>\n",
       "      <td>277</td>\n",
       "      <td>17</td>\n",
       "    </tr>\n",
       "    <tr>\n",
       "      <th>4</th>\n",
       "      <td>fatty</td>\n",
       "      <td>0.357143</td>\n",
       "      <td>0.483871</td>\n",
       "      <td>15</td>\n",
       "      <td>27</td>\n",
       "      <td>294</td>\n",
       "      <td>16</td>\n",
       "    </tr>\n",
       "  </tbody>\n",
       "</table>\n",
       "</div>"
      ],
      "text/plain": [
       "    class  precision    recall   TP  FP   TN  FN\n",
       "0  fruity   0.746667  0.741722  112  38  163  39\n",
       "1   green   0.352381  0.587302   37  68  221  26\n",
       "2   sweet   0.244186  0.677419   21  65  256  10\n",
       "3  floral   0.327586  0.527778   19  39  277  17\n",
       "4   fatty   0.357143  0.483871   15  27  294  16"
      ]
     },
     "execution_count": 24,
     "metadata": {},
     "output_type": "execute_result"
    }
   ],
   "source": [
    "pred_y, actual_y = evaluate(model, test_loader)\n",
    "get_eval_metrics(actual_y, pred_y, top_scents.index)"
   ]
  },
  {
   "cell_type": "markdown",
   "id": "61dfd124",
   "metadata": {},
   "source": [
    "We note the high relative number of true negatives and false positives in our dataset. \n",
    "\n",
    "Most likely this is due to the unbalanced dataset for several of the classes. Let's balance our dataset."
   ]
  },
  {
   "cell_type": "markdown",
   "id": "7c6fff76",
   "metadata": {},
   "source": [
    "# Multi-Label GNN Classification - Balanced"
   ]
  },
  {
   "cell_type": "code",
   "execution_count": 25,
   "id": "5461d78b",
   "metadata": {},
   "outputs": [
    {
     "name": "stdout",
     "output_type": "stream",
     "text": [
      "3171 352\n"
     ]
    }
   ],
   "source": [
    "top_scents = behavior.sum(axis=0).sort_values(ascending=False).head(5)\n",
    "behav_sub = behavior[top_scents.index]\n",
    "train_dataset, test_dataset = construct_dataset(behav_sub)\n",
    "print(len(train_dataset), len(test_dataset))"
   ]
  },
  {
   "cell_type": "code",
   "execution_count": 26,
   "id": "395890ae",
   "metadata": {},
   "outputs": [],
   "source": [
    "from dataset import get_balanced_sampler"
   ]
  },
  {
   "cell_type": "code",
   "execution_count": 27,
   "id": "6637df2c",
   "metadata": {},
   "outputs": [],
   "source": [
    "train_sampler = get_balanced_sampler(train_dataset)\n",
    "train_loader = DataLoader(train_dataset, batch_size=32, sampler=train_sampler)\n",
    "test_loader = DataLoader(test_dataset, batch_size=32)"
   ]
  },
  {
   "cell_type": "code",
   "execution_count": 28,
   "id": "b7036d32",
   "metadata": {},
   "outputs": [
    {
     "name": "stdout",
     "output_type": "stream",
     "text": [
      "GCN(\n",
      "  (conv1): TransformerConv(125, 64, heads=1)\n",
      "  (conv2): TransformerConv(64, 64, heads=1)\n",
      "  (conv3): TransformerConv(64, 64, heads=1)\n",
      "  (conv4): TransformerConv(64, 64, heads=1)\n",
      "  (conv5): GCNConv(64, 64)\n",
      "  (lin): Linear(in_features=64, out_features=5, bias=True)\n",
      "  (activation): SELU()\n",
      "  (out_activation): Sigmoid()\n",
      ")\n"
     ]
    }
   ],
   "source": [
    "num_node_features = len(train_dataset[0].x[0])\n",
    "out_size = train_dataset[0].y.shape[1]\n",
    "model = GCN(num_node_features=num_node_features, hidden_channels=64, out_size=out_size)\n",
    "print(model)"
   ]
  },
  {
   "cell_type": "code",
   "execution_count": 29,
   "id": "fe4b4dfb",
   "metadata": {},
   "outputs": [
    {
     "name": "stdout",
     "output_type": "stream",
     "text": [
      "Epoch: 000, Train Acc: 0.1022, Test Acc: 0.0426\n",
      "Epoch: 005, Train Acc: 0.2293, Test Acc: 0.0852\n",
      "Epoch: 010, Train Acc: 0.1186, Test Acc: 0.1847\n",
      "Epoch: 015, Train Acc: 0.2365, Test Acc: 0.1648\n",
      "Epoch: 020, Train Acc: 0.4147, Test Acc: 0.1903\n",
      "Epoch: 025, Train Acc: 0.5320, Test Acc: 0.1903\n",
      "Epoch: 030, Train Acc: 0.5383, Test Acc: 0.1932\n",
      "Epoch: 035, Train Acc: 0.5465, Test Acc: 0.1960\n",
      "Epoch: 040, Train Acc: 0.5853, Test Acc: 0.2301\n",
      "Epoch: 045, Train Acc: 0.6228, Test Acc: 0.2188\n",
      "Epoch: 050, Train Acc: 0.6332, Test Acc: 0.2244\n",
      "Epoch: 055, Train Acc: 0.6414, Test Acc: 0.2131\n",
      "Epoch: 060, Train Acc: 0.6235, Test Acc: 0.2386\n",
      "Epoch: 065, Train Acc: 0.6238, Test Acc: 0.2188\n",
      "Epoch: 070, Train Acc: 0.6304, Test Acc: 0.2301\n",
      "Epoch: 075, Train Acc: 0.6175, Test Acc: 0.2131\n",
      "Epoch: 080, Train Acc: 0.6194, Test Acc: 0.2131\n",
      "Epoch: 085, Train Acc: 0.6361, Test Acc: 0.2102\n",
      "Epoch: 090, Train Acc: 0.5963, Test Acc: 0.2131\n",
      "Epoch: 095, Train Acc: 0.6427, Test Acc: 0.2102\n",
      "Epoch: 100, Train Acc: 0.6436, Test Acc: 0.2131\n"
     ]
    }
   ],
   "source": [
    "optimizer = torch.optim.Adam(model.parameters(), lr=0.01)\n",
    "criterion = torch.nn.BCELoss()\n",
    "scheduler = torch.optim.lr_scheduler.StepLR(optimizer, step_size=20, gamma=0.1)\n",
    "\n",
    "for epoch in range(0, 101):\n",
    "    train(\n",
    "        model=model,\n",
    "        loader=train_loader,\n",
    "        criterion=criterion,\n",
    "        optimizer=optimizer,\n",
    "        scheduler=scheduler,\n",
    "    )\n",
    "    if epoch % 5 == 0:\n",
    "        train_acc = test(model=model, loader=train_loader)\n",
    "        test_acc = test(model=model, loader=test_loader)\n",
    "        print(\n",
    "            f\"Epoch: {epoch:03d}, Train Acc: {train_acc:.4f}, Test Acc: {test_acc:.4f}\"\n",
    "        )"
   ]
  },
  {
   "cell_type": "code",
   "execution_count": 30,
   "id": "007504d2",
   "metadata": {
    "scrolled": false
   },
   "outputs": [
    {
     "data": {
      "text/html": [
       "<div>\n",
       "<style scoped>\n",
       "    .dataframe tbody tr th:only-of-type {\n",
       "        vertical-align: middle;\n",
       "    }\n",
       "\n",
       "    .dataframe tbody tr th {\n",
       "        vertical-align: top;\n",
       "    }\n",
       "\n",
       "    .dataframe thead th {\n",
       "        text-align: right;\n",
       "    }\n",
       "</style>\n",
       "<table border=\"1\" class=\"dataframe\">\n",
       "  <thead>\n",
       "    <tr style=\"text-align: right;\">\n",
       "      <th></th>\n",
       "      <th>class</th>\n",
       "      <th>precision</th>\n",
       "      <th>recall</th>\n",
       "      <th>TP</th>\n",
       "      <th>FP</th>\n",
       "      <th>TN</th>\n",
       "      <th>FN</th>\n",
       "    </tr>\n",
       "  </thead>\n",
       "  <tbody>\n",
       "    <tr>\n",
       "      <th>0</th>\n",
       "      <td>fruity</td>\n",
       "      <td>0.706667</td>\n",
       "      <td>0.654321</td>\n",
       "      <td>106</td>\n",
       "      <td>44</td>\n",
       "      <td>146</td>\n",
       "      <td>56</td>\n",
       "    </tr>\n",
       "    <tr>\n",
       "      <th>1</th>\n",
       "      <td>green</td>\n",
       "      <td>0.580952</td>\n",
       "      <td>0.491935</td>\n",
       "      <td>61</td>\n",
       "      <td>44</td>\n",
       "      <td>184</td>\n",
       "      <td>63</td>\n",
       "    </tr>\n",
       "    <tr>\n",
       "      <th>2</th>\n",
       "      <td>sweet</td>\n",
       "      <td>0.593023</td>\n",
       "      <td>0.386364</td>\n",
       "      <td>51</td>\n",
       "      <td>35</td>\n",
       "      <td>185</td>\n",
       "      <td>81</td>\n",
       "    </tr>\n",
       "    <tr>\n",
       "      <th>3</th>\n",
       "      <td>floral</td>\n",
       "      <td>0.534483</td>\n",
       "      <td>0.369048</td>\n",
       "      <td>31</td>\n",
       "      <td>27</td>\n",
       "      <td>241</td>\n",
       "      <td>53</td>\n",
       "    </tr>\n",
       "    <tr>\n",
       "      <th>4</th>\n",
       "      <td>fatty</td>\n",
       "      <td>0.761905</td>\n",
       "      <td>0.450704</td>\n",
       "      <td>32</td>\n",
       "      <td>10</td>\n",
       "      <td>271</td>\n",
       "      <td>39</td>\n",
       "    </tr>\n",
       "  </tbody>\n",
       "</table>\n",
       "</div>"
      ],
      "text/plain": [
       "    class  precision    recall   TP  FP   TN  FN\n",
       "0  fruity   0.706667  0.654321  106  44  146  56\n",
       "1   green   0.580952  0.491935   61  44  184  63\n",
       "2   sweet   0.593023  0.386364   51  35  185  81\n",
       "3  floral   0.534483  0.369048   31  27  241  53\n",
       "4   fatty   0.761905  0.450704   32  10  271  39"
      ]
     },
     "execution_count": 30,
     "metadata": {},
     "output_type": "execute_result"
    }
   ],
   "source": [
    "pred_y, actual_y = evaluate(model, test_loader)\n",
    "get_eval_metrics(actual_y, pred_y, top_scents.index)"
   ]
  },
  {
   "cell_type": "markdown",
   "id": "5ddbc6c2",
   "metadata": {},
   "source": [
    "This performance looks much better after balancing our dataset. We noticed that we got much better performance when learning a single label. This hints that we should now scale up our architecture."
   ]
  },
  {
   "cell_type": "code",
   "execution_count": null,
   "id": "6fc81cf3",
   "metadata": {},
   "outputs": [],
   "source": []
  }
 ],
 "metadata": {
  "kernelspec": {
   "display_name": "base",
   "language": "python",
   "name": "base"
  },
  "language_info": {
   "codemirror_mode": {
    "name": "ipython",
    "version": 3
   },
   "file_extension": ".py",
   "mimetype": "text/x-python",
   "name": "python",
   "nbconvert_exporter": "python",
   "pygments_lexer": "ipython3",
   "version": "3.9.5"
  }
 },
 "nbformat": 4,
 "nbformat_minor": 5
}
